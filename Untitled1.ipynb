{
 "cells": [
  {
   "cell_type": "code",
   "execution_count": 1,
   "metadata": {},
   "outputs": [
    {
     "ename": "NameError",
     "evalue": "name 'labels' is not defined",
     "output_type": "error",
     "traceback": [
      "\u001b[1;31m---------------------------------------------------------------------------\u001b[0m",
      "\u001b[1;31mNameError\u001b[0m                                 Traceback (most recent call last)",
      "\u001b[1;32m<ipython-input-1-a14de3c628ef>\u001b[0m in \u001b[0;36m<module>\u001b[1;34m\u001b[0m\n\u001b[0;32m      8\u001b[0m \u001b[0mbreast_labels\u001b[0m\u001b[1;33m.\u001b[0m\u001b[0mshape\u001b[0m\u001b[1;33m\u001b[0m\u001b[1;33m\u001b[0m\u001b[0m\n\u001b[0;32m      9\u001b[0m \u001b[1;33m\u001b[0m\u001b[0m\n\u001b[1;32m---> 10\u001b[1;33m \u001b[0mfinal_breast_data\u001b[0m \u001b[1;33m=\u001b[0m \u001b[0mnp\u001b[0m\u001b[1;33m.\u001b[0m\u001b[0mconcatenate\u001b[0m\u001b[1;33m(\u001b[0m\u001b[1;33m[\u001b[0m\u001b[0mbreast_data\u001b[0m\u001b[1;33m,\u001b[0m\u001b[0mlabels\u001b[0m\u001b[1;33m]\u001b[0m\u001b[1;33m,\u001b[0m\u001b[0maxis\u001b[0m\u001b[1;33m=\u001b[0m\u001b[1;36m1\u001b[0m\u001b[1;33m)\u001b[0m\u001b[1;33m\u001b[0m\u001b[1;33m\u001b[0m\u001b[0m\n\u001b[0m\u001b[0;32m     11\u001b[0m \u001b[0mfinal_breast_data\u001b[0m\u001b[1;33m.\u001b[0m\u001b[0mshape\u001b[0m\u001b[1;33m\u001b[0m\u001b[1;33m\u001b[0m\u001b[0m\n\u001b[0;32m     12\u001b[0m \u001b[1;33m\u001b[0m\u001b[0m\n",
      "\u001b[1;31mNameError\u001b[0m: name 'labels' is not defined"
     ]
    }
   ],
   "source": [
    "from sklearn.datasets import load_breast_cancer\n",
    "import numpy as np\n",
    "\n",
    "breast = load_breast_cancer()\n",
    "breast_data = breast.data\n",
    "breast_data.shape\n",
    "breast_labels = breast.target\n",
    "breast_labels.shape\n",
    "\n",
    "final_breast_data = np.concatenate([breast_data,labels],axis=1)\n",
    "final_breast_data.shape\n",
    "\n"
   ]
  },
  {
   "cell_type": "code",
   "execution_count": 10,
   "metadata": {},
   "outputs": [
    {
     "name": "stdout",
     "output_type": "stream",
     "text": [
      "x train:  (31, 483)\n",
      "x test:  (31, 86)\n",
      "y train:  (483,)\n",
      "y test:  (86,)\n"
     ]
    },
    {
     "name": "stderr",
     "output_type": "stream",
     "text": [
      "C:\\Users\\vaishnavi.singh\\AppData\\Local\\Continuum\\anaconda3\\lib\\site-packages\\sklearn\\linear_model\\logistic.py:432: FutureWarning: Default solver will be changed to 'lbfgs' in 0.22. Specify a solver to silence this warning.\n",
      "  FutureWarning)\n",
      "C:\\Users\\vaishnavi.singh\\AppData\\Local\\Continuum\\anaconda3\\lib\\site-packages\\sklearn\\linear_model\\logistic.py:432: FutureWarning: Default solver will be changed to 'lbfgs' in 0.22. Specify a solver to silence this warning.\n",
      "  FutureWarning)\n"
     ]
    },
    {
     "name": "stdout",
     "output_type": "stream",
     "text": [
      "test accuracy: 0.9651162790697675 \n",
      "train accuracy: 0.9668737060041408 \n"
     ]
    }
   ],
   "source": [
    "import numpy as np  \n",
    "import pandas as pd \n",
    "import matplotlib.pyplot as plt\n",
    "\n",
    "data = pd.read_csv(r\"C:\\Users\\vaishnavi.singh\\Documents\\DataSet\\breast-cancer-data.csv\") \n",
    "\n",
    "x = (x_data - np.min(x_data))/(np.max(x_data) - np.min(x_data)).values \n",
    "\n",
    "\n",
    "y = data.diagnosis.values \n",
    "x_data = data.drop(['diagnosis'], axis = 1) \n",
    "\n",
    "from sklearn.model_selection import train_test_split \n",
    "x_train, x_test, y_train, y_test = train_test_split( \n",
    "    x, y, test_size = 0.15, random_state = 42) \n",
    "  \n",
    "x_train = x_train.T \n",
    "x_test = x_test.T \n",
    "y_train = y_train.T \n",
    "y_test = y_test.T \n",
    "  \n",
    "print(\"x train: \", x_train.shape) \n",
    "print(\"x test: \", x_test.shape) \n",
    "print(\"y train: \", y_train.shape) \n",
    "print(\"y test: \", y_test.shape)\n",
    "\n",
    "def logistic_regression(x_train, y_train, x_test, y_test,  \n",
    "                        learning_rate,  num_iterations): \n",
    "  \n",
    "    dimension = x_train.shape[0] \n",
    "    w, b = initialize_weights_and_bias(dimension) \n",
    "      \n",
    "    parameters, gradients, cost_list = update( \n",
    "        w, b, x_train, y_train, learning_rate, num_iterations) \n",
    "      \n",
    "    y_prediction_test = predict( \n",
    "        parameters[\"weight\"], parameters[\"bias\"], x_test) \n",
    "    y_prediction_train = predict( \n",
    "        arameters[\"weight\"], parameters[\"bias\"], x_train) \n",
    "  \n",
    "    # train / test Errors \n",
    "    print(\"train accuracy: {} %\".format( \n",
    "        100 - np.mean(np.abs(y_prediction_train - y_train)) * 100)) \n",
    "    print(\"test accuracy: {} %\".format( \n",
    "        100 - np.mean(np.abs(y_prediction_test - y_test)) * 100)) \n",
    "      \n",
    "# logistic_regression(x_train, y_train, x_test,  \n",
    "#                     y_test, learning_rate = 1, num_iterations = 100)  \n",
    "\n",
    "from sklearn import linear_model \n",
    "logreg = linear_model.LogisticRegression(random_state = 42, max_iter = 150) \n",
    "print(\"test accuracy: {} \".format( \n",
    "    logreg.fit(x_train.T, y_train.T).score(x_test.T, y_test.T))) \n",
    "print(\"train accuracy: {} \".format( \n",
    "    logreg.fit(x_train.T, y_train.T).score(x_train.T, y_train.T)))"
   ]
  },
  {
   "cell_type": "code",
   "execution_count": null,
   "metadata": {},
   "outputs": [],
   "source": []
  },
  {
   "cell_type": "code",
   "execution_count": null,
   "metadata": {},
   "outputs": [],
   "source": []
  },
  {
   "cell_type": "code",
   "execution_count": null,
   "metadata": {},
   "outputs": [],
   "source": []
  }
 ],
 "metadata": {
  "kernelspec": {
   "display_name": "Python 3",
   "language": "python",
   "name": "python3"
  },
  "language_info": {
   "codemirror_mode": {
    "name": "ipython",
    "version": 3
   },
   "file_extension": ".py",
   "mimetype": "text/x-python",
   "name": "python",
   "nbconvert_exporter": "python",
   "pygments_lexer": "ipython3",
   "version": "3.7.4"
  }
 },
 "nbformat": 4,
 "nbformat_minor": 2
}
