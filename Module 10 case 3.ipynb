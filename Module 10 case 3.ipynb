{
 "cells": [
  {
   "cell_type": "code",
   "execution_count": 2,
   "metadata": {},
   "outputs": [
    {
     "name": "stdout",
     "output_type": "stream",
     "text": [
      "             hair  feathers  eggs  milk  airborne  aquatic  predator  toothed  \\\n",
      "animal_name                                                                     \n",
      "aardvark        1         0     0     1         0        0         1        1   \n",
      "antelope        1         0     0     1         0        0         0        1   \n",
      "bass            0         0     1     0         0        1         1        1   \n",
      "bear            1         0     0     1         0        0         1        1   \n",
      "boar            1         0     0     1         0        0         1        1   \n",
      "\n",
      "             backbone  breathes  venomous  fins  legs  tail  domestic  \\\n",
      "animal_name                                                             \n",
      "aardvark            1         1         0     0     4     0         0   \n",
      "antelope            1         1         0     0     4     1         0   \n",
      "bass                1         0         0     1     0     1         0   \n",
      "bear                1         1         0     0     4     0         0   \n",
      "boar                1         1         0     0     4     1         0   \n",
      "\n",
      "             catsize  class_type  \n",
      "animal_name                       \n",
      "aardvark           1           1  \n",
      "antelope           1           1  \n",
      "bass               0           4  \n",
      "bear               1           1  \n",
      "boar               1           1  \n"
     ]
    }
   ],
   "source": [
    "import pandas as pd \n",
    "  \n",
    "zoo_data = pd.read_csv(r\"C:\\Users\\vaishnavi.singh\\Documents\\DataSet\\zoo.csv\", encoding = 'utf-8', \n",
    "                              index_col = [\"animal_name\"]) \n",
    "  \n",
    "# print first 5 rows of zoo data  \n",
    "print(zoo_data.head())"
   ]
  },
  {
   "cell_type": "code",
   "execution_count": 7,
   "metadata": {},
   "outputs": [
    {
     "data": {
      "text/plain": [
       "1                                   41\n",
       "2                                   20\n",
       "4                                   13\n",
       "7                                   10\n",
       "6                                    8\n",
       "3                                    5\n",
       "5                                    4\n",
       "nunique                              7\n",
       "unique values    [1, 2, 4, 7, 6, 3, 5]\n",
       "dtype: object"
      ]
     },
     "execution_count": 7,
     "metadata": {},
     "output_type": "execute_result"
    }
   ],
   "source": [
    "s = pd.value_counts(zoo_data.class_type)\n",
    "s1 = pd.Series({'nunique': len(s), 'unique values': s.index.tolist()})\n",
    "s.append(s1)"
   ]
  },
  {
   "cell_type": "code",
   "execution_count": 29,
   "metadata": {},
   "outputs": [
    {
     "name": "stdout",
     "output_type": "stream",
     "text": [
      "[0 0 0 0 0 0 0 0 0 0 0 0 0 0 1 1 0 0 0 0 0 0 0 0 1 1 1 0 0 0 1 0 0 0 0 0 0\n",
      " 0 0 1 1 0 1 0 0 0 1 0 0 0 0 1 1 1 0 0 0 0 0 0 0 0 0 0 0 0 0 0 0 0 0 0 1 0\n",
      " 0 0 0 0 0 0 0 0 0 0 0 1 0 0 1 1 1 1 0 0 0 0 0 1 0 0 0]\n"
     ]
    }
   ],
   "source": [
    "import matplotlib.pyplot as plt\n",
    "import pandas as pd\n",
    "%matplotlib inline\n",
    "import numpy as np\n",
    "import csv\n",
    "from sklearn.cluster import AgglomerativeClustering\n",
    "\n",
    "\n",
    "zoo_data = pd.read_csv(r\"C:\\Users\\vaishnavi.singh\\Documents\\DataSet\\zoo.csv\", encoding = 'utf-8', \n",
    "                              index_col = [\"animal_name\"])\n",
    "\n",
    "\n",
    "cluster = AgglomerativeClustering(n_clusters=2, affinity='euclidean', linkage='ward')\n",
    "cluster.fit_predict(zoo_data)\n",
    "print(cluster.labels_)\n"
   ]
  },
  {
   "cell_type": "code",
   "execution_count": null,
   "metadata": {},
   "outputs": [],
   "source": [
    "import pandas as pd\n",
    "import numpy as np\n",
    "import matplotlib.pyplot as plt\n",
    "%matplotlib inline\n",
    "from sklearn import metrics\n",
    "\n",
    "dataset = pd.read_csv(r\"C:\\Users\\vaishnavi.singh\\Documents\\DataSet\\zoo.csv\")\n",
    "X = dataset.iloc[:, :1].values\n",
    "y = dataset.iloc[:, 1].values\n",
    "\n",
    "from sklearn.model_selection import train_test_split\n",
    "X_train, X_test, y_train, y_test = train_test_split(X, y, test_size=0.2, random_state=0)\n",
    "\n",
    "from sklearn.linear_model import LinearRegression\n",
    "regressor = LinearRegression()\n",
    "regressor.fit(X_train, y_train)\n",
    "# print(X)\n",
    "# print(y)\n",
    "\n",
    "print(regressor.intercept_)\n",
    "\n",
    "print(regressor.coef_)\n",
    "\n",
    "y_pred = regressor.predict(X_test)\n",
    "\n",
    "df = pd.DataFrame({'Actual': y_test, 'Predicted': y_pred})\n",
    "df\n",
    "\n",
    "\n",
    "print('Mean Absolute Error:', metrics.mean_absolute_error(y_test, y_pred))\n",
    "print('Mean Squared Error:', metrics.mean_squared_error(y_test, y_pred))"
   ]
  },
  {
   "cell_type": "code",
   "execution_count": null,
   "metadata": {},
   "outputs": [],
   "source": []
  },
  {
   "cell_type": "code",
   "execution_count": 14,
   "metadata": {},
   "outputs": [
    {
     "data": {
      "text/plain": [
       "0.375"
      ]
     },
     "execution_count": 14,
     "metadata": {},
     "output_type": "execute_result"
    }
   ],
   "source": [
    ">>> from sklearn.metrics import mean_squared_error\n",
    ">>> y_true = [3, -0.5, 2, 7]\n",
    ">>> y_pred = [2.5, 0.0, 2, 8]\n",
    ">>> mean_squared_error(y_true, y_pred)"
   ]
  },
  {
   "cell_type": "code",
   "execution_count": null,
   "metadata": {},
   "outputs": [],
   "source": []
  }
 ],
 "metadata": {
  "kernelspec": {
   "display_name": "Python 3",
   "language": "python",
   "name": "python3"
  },
  "language_info": {
   "codemirror_mode": {
    "name": "ipython",
    "version": 3
   },
   "file_extension": ".py",
   "mimetype": "text/x-python",
   "name": "python",
   "nbconvert_exporter": "python",
   "pygments_lexer": "ipython3",
   "version": "3.7.4"
  }
 },
 "nbformat": 4,
 "nbformat_minor": 2
}
